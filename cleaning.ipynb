{
 "metadata": {
  "language_info": {
   "codemirror_mode": {
    "name": "ipython",
    "version": 3
   },
   "file_extension": ".py",
   "mimetype": "text/x-python",
   "name": "python",
   "nbconvert_exporter": "python",
   "pygments_lexer": "ipython3",
   "version": "3.7.3"
  },
  "orig_nbformat": 2,
  "kernelspec": {
   "name": "python373jvsc74a57bd02b9cd5c3ec4eb793e30b3fe22fb3034f3d8c9722bad10f4cedbbd7faa7e7f261",
   "display_name": "Python 3.7.3 64-bit ('base': conda)"
  }
 },
 "nbformat": 4,
 "nbformat_minor": 2,
 "cells": [
  {
   "cell_type": "code",
   "execution_count": 1,
   "metadata": {},
   "outputs": [],
   "source": [
    "import pandas as pd"
   ]
  },
  {
   "cell_type": "code",
   "execution_count": 2,
   "metadata": {},
   "outputs": [],
   "source": [
    "df = pd.read_csv('dataset/bestsellers with categories.csv')"
   ]
  },
  {
   "cell_type": "code",
   "execution_count": 3,
   "metadata": {},
   "outputs": [
    {
     "output_type": "execute_result",
     "data": {
      "text/plain": [
       "                                                Name  \\\n",
       "0                      10-Day Green Smoothie Cleanse   \n",
       "1                                  11/22/63: A Novel   \n",
       "2            12 Rules for Life: An Antidote to Chaos   \n",
       "3                             1984 (Signet Classics)   \n",
       "4  5,000 Awesome Facts (About Everything!) (Natio...   \n",
       "\n",
       "                     Author  User Rating  Reviews  Price  Year        Genre  \n",
       "0                  JJ Smith          4.7    17350      8  2016  Non Fiction  \n",
       "1              Stephen King          4.6     2052     22  2011      Fiction  \n",
       "2        Jordan B. Peterson          4.7    18979     15  2018  Non Fiction  \n",
       "3             George Orwell          4.7    21424      6  2017      Fiction  \n",
       "4  National Geographic Kids          4.8     7665     12  2019  Non Fiction  "
      ],
      "text/html": "<div>\n<style scoped>\n    .dataframe tbody tr th:only-of-type {\n        vertical-align: middle;\n    }\n\n    .dataframe tbody tr th {\n        vertical-align: top;\n    }\n\n    .dataframe thead th {\n        text-align: right;\n    }\n</style>\n<table border=\"1\" class=\"dataframe\">\n  <thead>\n    <tr style=\"text-align: right;\">\n      <th></th>\n      <th>Name</th>\n      <th>Author</th>\n      <th>User Rating</th>\n      <th>Reviews</th>\n      <th>Price</th>\n      <th>Year</th>\n      <th>Genre</th>\n    </tr>\n  </thead>\n  <tbody>\n    <tr>\n      <th>0</th>\n      <td>10-Day Green Smoothie Cleanse</td>\n      <td>JJ Smith</td>\n      <td>4.7</td>\n      <td>17350</td>\n      <td>8</td>\n      <td>2016</td>\n      <td>Non Fiction</td>\n    </tr>\n    <tr>\n      <th>1</th>\n      <td>11/22/63: A Novel</td>\n      <td>Stephen King</td>\n      <td>4.6</td>\n      <td>2052</td>\n      <td>22</td>\n      <td>2011</td>\n      <td>Fiction</td>\n    </tr>\n    <tr>\n      <th>2</th>\n      <td>12 Rules for Life: An Antidote to Chaos</td>\n      <td>Jordan B. Peterson</td>\n      <td>4.7</td>\n      <td>18979</td>\n      <td>15</td>\n      <td>2018</td>\n      <td>Non Fiction</td>\n    </tr>\n    <tr>\n      <th>3</th>\n      <td>1984 (Signet Classics)</td>\n      <td>George Orwell</td>\n      <td>4.7</td>\n      <td>21424</td>\n      <td>6</td>\n      <td>2017</td>\n      <td>Fiction</td>\n    </tr>\n    <tr>\n      <th>4</th>\n      <td>5,000 Awesome Facts (About Everything!) (Natio...</td>\n      <td>National Geographic Kids</td>\n      <td>4.8</td>\n      <td>7665</td>\n      <td>12</td>\n      <td>2019</td>\n      <td>Non Fiction</td>\n    </tr>\n  </tbody>\n</table>\n</div>"
     },
     "metadata": {},
     "execution_count": 3
    }
   ],
   "source": [
    "df.head()"
   ]
  },
  {
   "cell_type": "code",
   "execution_count": 36,
   "metadata": {},
   "outputs": [],
   "source": [
    "df_b = df.loc[df.Name.str.contains('\\(')]['Name']\n",
    "df_b.map(lambda name : name.strip('()')).map(lambda name : name.split('(')[0])\n",
    "\n",
    "names = []\n",
    "for name in df['Name'].values:\n",
    "    if '(' in name:\n",
    "        names.append(name.strip('()').split('(')[0])\n",
    "    else:\n",
    "        names.append(name)\n",
    "df['Name'] = names"
   ]
  },
  {
   "cell_type": "code",
   "execution_count": 37,
   "metadata": {},
   "outputs": [
    {
     "output_type": "execute_result",
     "data": {
      "text/plain": [
       "                                                  Name  \\\n",
       "0                        10-Day Green Smoothie Cleanse   \n",
       "1                                    11/22/63: A Novel   \n",
       "2              12 Rules for Life: An Antidote to Chaos   \n",
       "3                                                1984    \n",
       "4                                 5,000 Awesome Facts    \n",
       "..                                                 ...   \n",
       "545                                     Wrecking Ball    \n",
       "546  You Are a Badass: How to Stop Doubting Your Gr...   \n",
       "547  You Are a Badass: How to Stop Doubting Your Gr...   \n",
       "548  You Are a Badass: How to Stop Doubting Your Gr...   \n",
       "549  You Are a Badass: How to Stop Doubting Your Gr...   \n",
       "\n",
       "                       Author  User Rating  Reviews  Price  Year        Genre  \n",
       "0                    JJ Smith          4.7    17350      8  2016  Non Fiction  \n",
       "1                Stephen King          4.6     2052     22  2011      Fiction  \n",
       "2          Jordan B. Peterson          4.7    18979     15  2018  Non Fiction  \n",
       "3               George Orwell          4.7    21424      6  2017      Fiction  \n",
       "4    National Geographic Kids          4.8     7665     12  2019  Non Fiction  \n",
       "..                        ...          ...      ...    ...   ...          ...  \n",
       "545               Jeff Kinney          4.9     9413      8  2019      Fiction  \n",
       "546               Jen Sincero          4.7    14331      8  2016  Non Fiction  \n",
       "547               Jen Sincero          4.7    14331      8  2017  Non Fiction  \n",
       "548               Jen Sincero          4.7    14331      8  2018  Non Fiction  \n",
       "549               Jen Sincero          4.7    14331      8  2019  Non Fiction  \n",
       "\n",
       "[550 rows x 7 columns]"
      ],
      "text/html": "<div>\n<style scoped>\n    .dataframe tbody tr th:only-of-type {\n        vertical-align: middle;\n    }\n\n    .dataframe tbody tr th {\n        vertical-align: top;\n    }\n\n    .dataframe thead th {\n        text-align: right;\n    }\n</style>\n<table border=\"1\" class=\"dataframe\">\n  <thead>\n    <tr style=\"text-align: right;\">\n      <th></th>\n      <th>Name</th>\n      <th>Author</th>\n      <th>User Rating</th>\n      <th>Reviews</th>\n      <th>Price</th>\n      <th>Year</th>\n      <th>Genre</th>\n    </tr>\n  </thead>\n  <tbody>\n    <tr>\n      <th>0</th>\n      <td>10-Day Green Smoothie Cleanse</td>\n      <td>JJ Smith</td>\n      <td>4.7</td>\n      <td>17350</td>\n      <td>8</td>\n      <td>2016</td>\n      <td>Non Fiction</td>\n    </tr>\n    <tr>\n      <th>1</th>\n      <td>11/22/63: A Novel</td>\n      <td>Stephen King</td>\n      <td>4.6</td>\n      <td>2052</td>\n      <td>22</td>\n      <td>2011</td>\n      <td>Fiction</td>\n    </tr>\n    <tr>\n      <th>2</th>\n      <td>12 Rules for Life: An Antidote to Chaos</td>\n      <td>Jordan B. Peterson</td>\n      <td>4.7</td>\n      <td>18979</td>\n      <td>15</td>\n      <td>2018</td>\n      <td>Non Fiction</td>\n    </tr>\n    <tr>\n      <th>3</th>\n      <td>1984</td>\n      <td>George Orwell</td>\n      <td>4.7</td>\n      <td>21424</td>\n      <td>6</td>\n      <td>2017</td>\n      <td>Fiction</td>\n    </tr>\n    <tr>\n      <th>4</th>\n      <td>5,000 Awesome Facts</td>\n      <td>National Geographic Kids</td>\n      <td>4.8</td>\n      <td>7665</td>\n      <td>12</td>\n      <td>2019</td>\n      <td>Non Fiction</td>\n    </tr>\n    <tr>\n      <th>...</th>\n      <td>...</td>\n      <td>...</td>\n      <td>...</td>\n      <td>...</td>\n      <td>...</td>\n      <td>...</td>\n      <td>...</td>\n    </tr>\n    <tr>\n      <th>545</th>\n      <td>Wrecking Ball</td>\n      <td>Jeff Kinney</td>\n      <td>4.9</td>\n      <td>9413</td>\n      <td>8</td>\n      <td>2019</td>\n      <td>Fiction</td>\n    </tr>\n    <tr>\n      <th>546</th>\n      <td>You Are a Badass: How to Stop Doubting Your Gr...</td>\n      <td>Jen Sincero</td>\n      <td>4.7</td>\n      <td>14331</td>\n      <td>8</td>\n      <td>2016</td>\n      <td>Non Fiction</td>\n    </tr>\n    <tr>\n      <th>547</th>\n      <td>You Are a Badass: How to Stop Doubting Your Gr...</td>\n      <td>Jen Sincero</td>\n      <td>4.7</td>\n      <td>14331</td>\n      <td>8</td>\n      <td>2017</td>\n      <td>Non Fiction</td>\n    </tr>\n    <tr>\n      <th>548</th>\n      <td>You Are a Badass: How to Stop Doubting Your Gr...</td>\n      <td>Jen Sincero</td>\n      <td>4.7</td>\n      <td>14331</td>\n      <td>8</td>\n      <td>2018</td>\n      <td>Non Fiction</td>\n    </tr>\n    <tr>\n      <th>549</th>\n      <td>You Are a Badass: How to Stop Doubting Your Gr...</td>\n      <td>Jen Sincero</td>\n      <td>4.7</td>\n      <td>14331</td>\n      <td>8</td>\n      <td>2019</td>\n      <td>Non Fiction</td>\n    </tr>\n  </tbody>\n</table>\n<p>550 rows × 7 columns</p>\n</div>"
     },
     "metadata": {},
     "execution_count": 37
    }
   ],
   "source": [
    "df"
   ]
  },
  {
   "cell_type": "code",
   "execution_count": 26,
   "metadata": {},
   "outputs": [
    {
     "output_type": "execute_result",
     "data": {
      "text/plain": [
       "                                                  Name  \\\n",
       "271  Publication Manual of the American Psychologic...   \n",
       "272  Publication Manual of the American Psychologic...   \n",
       "273  Publication Manual of the American Psychologic...   \n",
       "274  Publication Manual of the American Psychologic...   \n",
       "275  Publication Manual of the American Psychologic...   \n",
       "276  Publication Manual of the American Psychologic...   \n",
       "277  Publication Manual of the American Psychologic...   \n",
       "278  Publication Manual of the American Psychologic...   \n",
       "279  Publication Manual of the American Psychologic...   \n",
       "280  Publication Manual of the American Psychologic...   \n",
       "\n",
       "                                 Author  User Rating  Reviews  Price  Year  \\\n",
       "271  American Psychological Association          4.5     8580     46  2009   \n",
       "272  American Psychological Association          4.5     8580     46  2010   \n",
       "273  American Psychological Association          4.5     8580     46  2011   \n",
       "274  American Psychological Association          4.5     8580     46  2012   \n",
       "275  American Psychological Association          4.5     8580     46  2013   \n",
       "276  American Psychological Association          4.5     8580     46  2014   \n",
       "277  American Psychological Association          4.5     8580     46  2015   \n",
       "278  American Psychological Association          4.5     8580     46  2016   \n",
       "279  American Psychological Association          4.5     8580     46  2017   \n",
       "280  American Psychological Association          4.5     8580     46  2018   \n",
       "\n",
       "           Genre  \n",
       "271  Non Fiction  \n",
       "272  Non Fiction  \n",
       "273  Non Fiction  \n",
       "274  Non Fiction  \n",
       "275  Non Fiction  \n",
       "276  Non Fiction  \n",
       "277  Non Fiction  \n",
       "278  Non Fiction  \n",
       "279  Non Fiction  \n",
       "280  Non Fiction  "
      ],
      "text/html": "<div>\n<style scoped>\n    .dataframe tbody tr th:only-of-type {\n        vertical-align: middle;\n    }\n\n    .dataframe tbody tr th {\n        vertical-align: top;\n    }\n\n    .dataframe thead th {\n        text-align: right;\n    }\n</style>\n<table border=\"1\" class=\"dataframe\">\n  <thead>\n    <tr style=\"text-align: right;\">\n      <th></th>\n      <th>Name</th>\n      <th>Author</th>\n      <th>User Rating</th>\n      <th>Reviews</th>\n      <th>Price</th>\n      <th>Year</th>\n      <th>Genre</th>\n    </tr>\n  </thead>\n  <tbody>\n    <tr>\n      <th>271</th>\n      <td>Publication Manual of the American Psychologic...</td>\n      <td>American Psychological Association</td>\n      <td>4.5</td>\n      <td>8580</td>\n      <td>46</td>\n      <td>2009</td>\n      <td>Non Fiction</td>\n    </tr>\n    <tr>\n      <th>272</th>\n      <td>Publication Manual of the American Psychologic...</td>\n      <td>American Psychological Association</td>\n      <td>4.5</td>\n      <td>8580</td>\n      <td>46</td>\n      <td>2010</td>\n      <td>Non Fiction</td>\n    </tr>\n    <tr>\n      <th>273</th>\n      <td>Publication Manual of the American Psychologic...</td>\n      <td>American Psychological Association</td>\n      <td>4.5</td>\n      <td>8580</td>\n      <td>46</td>\n      <td>2011</td>\n      <td>Non Fiction</td>\n    </tr>\n    <tr>\n      <th>274</th>\n      <td>Publication Manual of the American Psychologic...</td>\n      <td>American Psychological Association</td>\n      <td>4.5</td>\n      <td>8580</td>\n      <td>46</td>\n      <td>2012</td>\n      <td>Non Fiction</td>\n    </tr>\n    <tr>\n      <th>275</th>\n      <td>Publication Manual of the American Psychologic...</td>\n      <td>American Psychological Association</td>\n      <td>4.5</td>\n      <td>8580</td>\n      <td>46</td>\n      <td>2013</td>\n      <td>Non Fiction</td>\n    </tr>\n    <tr>\n      <th>276</th>\n      <td>Publication Manual of the American Psychologic...</td>\n      <td>American Psychological Association</td>\n      <td>4.5</td>\n      <td>8580</td>\n      <td>46</td>\n      <td>2014</td>\n      <td>Non Fiction</td>\n    </tr>\n    <tr>\n      <th>277</th>\n      <td>Publication Manual of the American Psychologic...</td>\n      <td>American Psychological Association</td>\n      <td>4.5</td>\n      <td>8580</td>\n      <td>46</td>\n      <td>2015</td>\n      <td>Non Fiction</td>\n    </tr>\n    <tr>\n      <th>278</th>\n      <td>Publication Manual of the American Psychologic...</td>\n      <td>American Psychological Association</td>\n      <td>4.5</td>\n      <td>8580</td>\n      <td>46</td>\n      <td>2016</td>\n      <td>Non Fiction</td>\n    </tr>\n    <tr>\n      <th>279</th>\n      <td>Publication Manual of the American Psychologic...</td>\n      <td>American Psychological Association</td>\n      <td>4.5</td>\n      <td>8580</td>\n      <td>46</td>\n      <td>2017</td>\n      <td>Non Fiction</td>\n    </tr>\n    <tr>\n      <th>280</th>\n      <td>Publication Manual of the American Psychologic...</td>\n      <td>American Psychological Association</td>\n      <td>4.5</td>\n      <td>8580</td>\n      <td>46</td>\n      <td>2018</td>\n      <td>Non Fiction</td>\n    </tr>\n  </tbody>\n</table>\n</div>"
     },
     "metadata": {},
     "execution_count": 26
    }
   ],
   "source": [
    "df[df['Author'] == 'American Psychological Association']"
   ]
  },
  {
   "cell_type": "code",
   "execution_count": null,
   "metadata": {},
   "outputs": [],
   "source": []
  }
 ]
}